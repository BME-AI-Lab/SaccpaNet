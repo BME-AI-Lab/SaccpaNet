{
 "cells": [
  {
   "attachments": {},
   "cell_type": "markdown",
   "metadata": {},
   "source": [
    "# This notebook checks the data from the sqlite database\n",
    "The checking code checks for the following data\n",
    "1. Missing data\n",
    "2. Discrepancy in translated data (ie images with quilt should share the same annotation with cases that have quilt)\n",
    "3. Extreme data (Image distance > 3 sigma)\n",
    "\n",
    "\n",
    "The data are currently manually edited using librayr `dataset.gui.fix_images.fix_image.py`\n",
    "`fix_image.py` should also be updated in later stage. \n",
    "\n",
    "\n",
    "One of the problem is, no matter how many iterations, there always \n"
   ]
  },
  {
   "cell_type": "code",
   "execution_count": 1,
   "metadata": {},
   "outputs": [],
   "source": [
    "# Basic definitons and imports\n",
    "import pandas as pd\n",
    "import numpy as np\n",
    "import seaborn as sns\n",
    "import matplotlib.pyplot as plt\n",
    "from itertools import combinations\n",
    "num_joints = 18\n",
    "database_string = \"sqlite:///D:\\\\Posture Coordinate Models\\\\dataset.db\"\n",
    "all_data = pd.read_sql_query(\"SELECT * FROM annotations\", database_string)"
   ]
  },
  {
   "attachments": {},
   "cell_type": "markdown",
   "metadata": {},
   "source": [
    "### Captures \n",
    "1. [ ] Every posture have 4 quilt conditions\n",
    "2. [ ] Every quilt condition have 7 posture\n",
    "3. [ ] Every subjects have 7 posture\n",
    "4. [ ] total 150 subjects\n",
    "5. [ ] 96 training subjects\n",
    "6. [ ] 24 validation subject\n",
    "7. [ ] 30 testing subjects"
   ]
  },
  {
   "cell_type": "code",
   "execution_count": 2,
   "metadata": {},
   "outputs": [
    {
     "data": {
      "text/html": [
       "<div>\n",
       "<style scoped>\n",
       "    .dataframe tbody tr th:only-of-type {\n",
       "        vertical-align: middle;\n",
       "    }\n",
       "\n",
       "    .dataframe tbody tr th {\n",
       "        vertical-align: top;\n",
       "    }\n",
       "\n",
       "    .dataframe thead th {\n",
       "        text-align: right;\n",
       "    }\n",
       "</style>\n",
       "<table border=\"1\" class=\"dataframe\">\n",
       "  <thead>\n",
       "    <tr style=\"text-align: right;\">\n",
       "      <th></th>\n",
       "      <th>level_0</th>\n",
       "      <th>subject_number</th>\n",
       "      <th>index</th>\n",
       "      <th>image_id</th>\n",
       "      <th>annotation_file</th>\n",
       "      <th>source_file</th>\n",
       "      <th>posture</th>\n",
       "      <th>0_x</th>\n",
       "      <th>0_y</th>\n",
       "      <th>1_x</th>\n",
       "      <th>...</th>\n",
       "      <th>8_confidence</th>\n",
       "      <th>9_confidence</th>\n",
       "      <th>10_confidence</th>\n",
       "      <th>11_confidence</th>\n",
       "      <th>12_confidence</th>\n",
       "      <th>13_confidence</th>\n",
       "      <th>14_confidence</th>\n",
       "      <th>15_confidence</th>\n",
       "      <th>16_confidence</th>\n",
       "      <th>17_confidence</th>\n",
       "    </tr>\n",
       "  </thead>\n",
       "  <tbody>\n",
       "    <tr>\n",
       "      <th>0</th>\n",
       "      <td>0</td>\n",
       "      <td>82</td>\n",
       "      <td>1</td>\n",
       "      <td>4</td>\n",
       "      <td>process\\20211112_105525.ass</td>\n",
       "      <td>subject\\20211112_105525.bag</td>\n",
       "      <td>r</td>\n",
       "      <td>107.089</td>\n",
       "      <td>82.0153</td>\n",
       "      <td>105.410</td>\n",
       "      <td>...</td>\n",
       "      <td>0.686386</td>\n",
       "      <td>0.781454</td>\n",
       "      <td>0.708149</td>\n",
       "      <td>0.725464</td>\n",
       "      <td>0.771406</td>\n",
       "      <td>0.753817</td>\n",
       "      <td>0.861369</td>\n",
       "      <td>0.884187</td>\n",
       "      <td>0.841067</td>\n",
       "      <td>0.814619</td>\n",
       "    </tr>\n",
       "    <tr>\n",
       "      <th>1</th>\n",
       "      <td>1</td>\n",
       "      <td>82</td>\n",
       "      <td>2</td>\n",
       "      <td>4</td>\n",
       "      <td>process\\20211112_105525.ass</td>\n",
       "      <td>subject\\20211112_105525.bag</td>\n",
       "      <td>r</td>\n",
       "      <td>107.089</td>\n",
       "      <td>82.0153</td>\n",
       "      <td>105.410</td>\n",
       "      <td>...</td>\n",
       "      <td>0.686386</td>\n",
       "      <td>0.781454</td>\n",
       "      <td>0.708149</td>\n",
       "      <td>0.725464</td>\n",
       "      <td>0.771406</td>\n",
       "      <td>0.753817</td>\n",
       "      <td>0.861369</td>\n",
       "      <td>0.884187</td>\n",
       "      <td>0.841067</td>\n",
       "      <td>0.814619</td>\n",
       "    </tr>\n",
       "    <tr>\n",
       "      <th>2</th>\n",
       "      <td>2</td>\n",
       "      <td>82</td>\n",
       "      <td>3</td>\n",
       "      <td>4</td>\n",
       "      <td>process\\20211112_105525.ass</td>\n",
       "      <td>subject\\20211112_105525.bag</td>\n",
       "      <td>r</td>\n",
       "      <td>107.089</td>\n",
       "      <td>82.0153</td>\n",
       "      <td>105.410</td>\n",
       "      <td>...</td>\n",
       "      <td>0.686386</td>\n",
       "      <td>0.781454</td>\n",
       "      <td>0.708149</td>\n",
       "      <td>0.725464</td>\n",
       "      <td>0.771406</td>\n",
       "      <td>0.753817</td>\n",
       "      <td>0.861369</td>\n",
       "      <td>0.884187</td>\n",
       "      <td>0.841067</td>\n",
       "      <td>0.814619</td>\n",
       "    </tr>\n",
       "    <tr>\n",
       "      <th>3</th>\n",
       "      <td>3</td>\n",
       "      <td>82</td>\n",
       "      <td>4</td>\n",
       "      <td>4</td>\n",
       "      <td>process\\20211112_105525.ass</td>\n",
       "      <td>subject\\20211112_105525.bag</td>\n",
       "      <td>r</td>\n",
       "      <td>107.089</td>\n",
       "      <td>82.0153</td>\n",
       "      <td>105.410</td>\n",
       "      <td>...</td>\n",
       "      <td>0.686386</td>\n",
       "      <td>0.781454</td>\n",
       "      <td>0.708149</td>\n",
       "      <td>0.725464</td>\n",
       "      <td>0.771406</td>\n",
       "      <td>0.753817</td>\n",
       "      <td>0.861369</td>\n",
       "      <td>0.884187</td>\n",
       "      <td>0.841067</td>\n",
       "      <td>0.814619</td>\n",
       "    </tr>\n",
       "    <tr>\n",
       "      <th>4</th>\n",
       "      <td>8</td>\n",
       "      <td>120</td>\n",
       "      <td>9</td>\n",
       "      <td>12</td>\n",
       "      <td>process\\20220108_115516.ass</td>\n",
       "      <td>subject\\20220108_115516.bag</td>\n",
       "      <td>r</td>\n",
       "      <td>101.490</td>\n",
       "      <td>69.8623</td>\n",
       "      <td>103.056</td>\n",
       "      <td>...</td>\n",
       "      <td>0.686756</td>\n",
       "      <td>0.705862</td>\n",
       "      <td>0.507983</td>\n",
       "      <td>0.602001</td>\n",
       "      <td>0.745243</td>\n",
       "      <td>0.694008</td>\n",
       "      <td>0.921060</td>\n",
       "      <td>0.866536</td>\n",
       "      <td>0.737365</td>\n",
       "      <td>0.857977</td>\n",
       "    </tr>\n",
       "  </tbody>\n",
       "</table>\n",
       "<p>5 rows × 67 columns</p>\n",
       "</div>"
      ],
      "text/plain": [
       "   level_0  subject_number  index  image_id              annotation_file  \\\n",
       "0        0              82      1         4  process\\20211112_105525.ass   \n",
       "1        1              82      2         4  process\\20211112_105525.ass   \n",
       "2        2              82      3         4  process\\20211112_105525.ass   \n",
       "3        3              82      4         4  process\\20211112_105525.ass   \n",
       "4        8             120      9        12  process\\20220108_115516.ass   \n",
       "\n",
       "                   source_file posture      0_x      0_y      1_x  ...  \\\n",
       "0  subject\\20211112_105525.bag       r  107.089  82.0153  105.410  ...   \n",
       "1  subject\\20211112_105525.bag       r  107.089  82.0153  105.410  ...   \n",
       "2  subject\\20211112_105525.bag       r  107.089  82.0153  105.410  ...   \n",
       "3  subject\\20211112_105525.bag       r  107.089  82.0153  105.410  ...   \n",
       "4  subject\\20220108_115516.bag       r  101.490  69.8623  103.056  ...   \n",
       "\n",
       "   8_confidence  9_confidence  10_confidence  11_confidence  12_confidence  \\\n",
       "0      0.686386      0.781454       0.708149       0.725464       0.771406   \n",
       "1      0.686386      0.781454       0.708149       0.725464       0.771406   \n",
       "2      0.686386      0.781454       0.708149       0.725464       0.771406   \n",
       "3      0.686386      0.781454       0.708149       0.725464       0.771406   \n",
       "4      0.686756      0.705862       0.507983       0.602001       0.745243   \n",
       "\n",
       "   13_confidence  14_confidence  15_confidence  16_confidence  17_confidence  \n",
       "0       0.753817       0.861369       0.884187       0.841067       0.814619  \n",
       "1       0.753817       0.861369       0.884187       0.841067       0.814619  \n",
       "2       0.753817       0.861369       0.884187       0.841067       0.814619  \n",
       "3       0.753817       0.861369       0.884187       0.841067       0.814619  \n",
       "4       0.694008       0.921060       0.866536       0.737365       0.857977  \n",
       "\n",
       "[5 rows x 67 columns]"
      ]
     },
     "execution_count": 2,
     "metadata": {},
     "output_type": "execute_result"
    }
   ],
   "source": [
    "# take a look at the data\n",
    "all_data.head(5)"
   ]
  },
  {
   "cell_type": "code",
   "execution_count": 3,
   "metadata": {},
   "outputs": [],
   "source": [
    "# We don't look at all the joints for basic capture test\n",
    "basic_capture = all_data[[\"subject_number\", \"posture\", \"effect\", \"image_id\",\"subset\"]]"
   ]
  },
  {
   "cell_type": "code",
   "execution_count": 4,
   "metadata": {},
   "outputs": [],
   "source": [
    "# 01. Every posture have 4 distinct quilt\n",
    "rows_to_look = [\"subject_number\", \"posture\", \"effect\"]\n",
    "counts = basic_capture[rows_to_look].groupby([\"subject_number\", \"posture\"]).effect.nunique()\n",
    "assert (counts == 4).all().all() \n"
   ]
  },
  {
   "cell_type": "code",
   "execution_count": 5,
   "metadata": {},
   "outputs": [],
   "source": [
    "# 01. Every quilt have 7 distinct quilt\n",
    "rows_to_look = [\"subject_number\", \"posture\"]\n",
    "counts = basic_capture[rows_to_look].groupby([\"subject_number\"]).posture.nunique()\n",
    "assert (counts == 7).all().all() \n"
   ]
  },
  {
   "cell_type": "code",
   "execution_count": 6,
   "metadata": {},
   "outputs": [],
   "source": [
    "\n",
    "# 04. Total 150 subjects\n",
    "\n",
    "counts = basic_capture.groupby([\"posture\", \"effect\"]).count()\n",
    "assert (counts == 150).all().all() , \"Total numebr of subjects is not 150\"\n",
    "#counts "
   ]
  },
  {
   "cell_type": "code",
   "execution_count": 7,
   "metadata": {},
   "outputs": [],
   "source": [
    "# 05. 96 training subjects\n",
    "counts = basic_capture[basic_capture[\"subset\"] == \"train\" ].groupby([\"posture\", \"effect\"]).count()\n",
    "assert (counts == 96).all().all() , \"Total numebr of subjects is not 150\"\n",
    "#counts "
   ]
  },
  {
   "cell_type": "code",
   "execution_count": 8,
   "metadata": {},
   "outputs": [],
   "source": [
    "# 06. 24 valjidation subjects\n",
    "counts = basic_capture[basic_capture[\"subset\"] == \"val\" ].groupby([\"posture\", \"effect\"]).count()\n",
    "assert (counts == 24).all().all() , \"Total numebr of subjects is not 150\"\n",
    "#counts "
   ]
  },
  {
   "cell_type": "code",
   "execution_count": 9,
   "metadata": {},
   "outputs": [],
   "source": [
    "# 07. 30 testing subjects\n",
    "counts = basic_capture[basic_capture[\"subset\"] == \"test\" ].groupby([\"posture\", \"effect\"]).count()\n",
    "assert (counts == 30).all().all()"
   ]
  },
  {
   "attachments": {},
   "cell_type": "markdown",
   "metadata": {},
   "source": [
    "### Joint Annotations\n",
    "1. [ ] Every (subject*posture) should have same annotaiton\n",
    "2. [ ] Every joints are annotated\n",
    "3. [ ] For each bone, plot a 2d distribution for distance \n",
    "4. [ ] For each bone, joints with extreme distance are checked (> sigma)"
   ]
  },
  {
   "cell_type": "code",
   "execution_count": 10,
   "metadata": {},
   "outputs": [],
   "source": [
    "# check every joints are annotated\n",
    "all_coordinates_headers = sum([[f\"{i}_x\", f\"{i}_y\"] for i in range(num_joints)],start=[])\n",
    "coordinates = all_data[all_coordinates_headers]\n",
    "assert (coordinates != 0).all().all() , \"Some joints are not annotated\"\n",
    "assert not (coordinates.isnull()).any().any(), \"Some joints are not annotated\""
   ]
  },
  {
   "cell_type": "code",
   "execution_count": 11,
   "metadata": {},
   "outputs": [],
   "source": [
    "#every (subject*posture) should bave the same annotation\n",
    "grouped = all_data[[\"subject_number\",\"posture\"]+all_coordinates_headers].groupby([\"subject_number\", \"posture\"])\n",
    "same = grouped.agg(lambda x: x.nunique())\n",
    "assert same.all().all() "
   ]
  },
  {
   "cell_type": "code",
   "execution_count": 12,
   "metadata": {},
   "outputs": [
    {
     "data": {
      "text/plain": [
       "<pandas.core.groupby.generic.DataFrameGroupBy object at 0x000002AC6D217AC0>"
      ]
     },
     "execution_count": 12,
     "metadata": {},
     "output_type": "execute_result"
    }
   ],
   "source": [
    "grouped"
   ]
  },
  {
   "attachments": {},
   "cell_type": "markdown",
   "metadata": {},
   "source": [
    "## 03. Data distributions\n",
    "For each joint, the posture is ploted with xxx and xx. "
   ]
  },
  {
   "cell_type": "code",
   "execution_count": 13,
   "metadata": {},
   "outputs": [],
   "source": [
    "skeleton = [\n",
    "    [1, 2],\n",
    "    [2, 3],\n",
    "    [3, 4],\n",
    "    [1, 5],\n",
    "    [5, 6],\n",
    "    [6, 7],\n",
    "    [1, 8],\n",
    "    [8, 9],\n",
    "    [9, 10],\n",
    "    [1, 11],\n",
    "    [11, 12],\n",
    "    [12, 13],\n",
    "    [1, 0],\n",
    "    [0, 14],\n",
    "    [14, 16],\n",
    "    [0, 15],\n",
    "    [15, 17],\n",
    "]\n",
    "def draw_skeleton(ax, coordinates, skeleton):\n",
    "    for joint1, joint2 in skeleton:\n",
    "        x1, y1 = coordinates[joint1]\n",
    "        x2, y2 = coordinates[joint2]\n",
    "        ax.plot([x1, x2], [y1, y2], color=\"black\")"
   ]
  },
  {
   "cell_type": "code",
   "execution_count": 14,
   "metadata": {},
   "outputs": [
    {
     "data": {
      "text/plain": [
       "18"
      ]
     },
     "execution_count": 14,
     "metadata": {},
     "output_type": "execute_result"
    }
   ],
   "source": [
    "num_joints"
   ]
  },
  {
   "cell_type": "code",
   "execution_count": 15,
   "metadata": {},
   "outputs": [
    {
     "data": {
      "image/png": "[encoded data removed]",
      "text/plain": [
       "<Figure size 432x288 with 1 Axes>"
      ]
     },
     "metadata": {
      "needs_background": "light"
     },
     "output_type": "display_data"
    }
   ],
   "source": [
    "df = all_data\n",
    "coordinate_array = np.zeros((len(df), num_joints, 2))\n",
    "for subject, (index, row) in enumerate(df.iterrows()):\n",
    "    for joint in range(num_joints):\n",
    "        x, y = float(row[f\"{joint}_x\"]), float(row[f\"{joint}_y\"])\n",
    "        coordinate_array[subject, joint, :] = [x, y]\n",
    "    draw_skeleton(plt, coordinate_array[subject], skeleton)\n",
    "    break"
   ]
  },
  {
   "cell_type": "code",
   "execution_count": 16,
   "metadata": {},
   "outputs": [
    {
     "data": {
      "image/png": "[encoded data removed]",
      "text/plain": [
       "<Figure size 432x288 with 1 Axes>"
      ]
     },
     "metadata": {
      "needs_background": "light"
     },
     "output_type": "display_data"
    }
   ],
   "source": [
    "#draw skeleton\n",
    "\n",
    "\n",
    "fig, ax = plt.subplots()\n"
   ]
  },
  {
   "cell_type": "code",
   "execution_count": 17,
   "metadata": {},
   "outputs": [],
   "source": [
    "error_set = set()\n",
    "    # display_dict = {}\n",
    "    # for i in skeleton:\n",
    "    #     x, y = i\n",
    "    #     # x, y = x - 1, y - 1\n",
    "    #     distance = np.linalg.norm(array[:, x, :] - array[:, y, :], axis=1) / norm_dist\n",
    "    #     display_dict[tuple(i)] = distance\n",
    "    #     # sns.distplot(distance)\n",
    "    #     # plt.show()\n",
    "    #     # subjects > 3 sigma\n",
    "    #     more_than = np.where(distance > distance.mean() + 3 * distance.std())\n",
    "    #     less_than = np.where(distance < distance.mean() - 3 * distance.std())\n",
    "    #     # print(f\"{i} More than 3 sigma: {more_than}, {distance[more_than]}\")\n",
    "    #     # print(f\"{i} Less than 3 sigma: {less_than}, {distance[less_than]}\")\n",
    "\n",
    "    #     subjects_more_than = set(df[\"image_id\"].iloc[more_than])\n",
    "    #     if any(subjects_more_than):\n",
    "    #         print(i, subjects_more_than, distance[more_than])\n",
    "    #     # print(i, subjects_more_than, distance[more_than])\n",
    "    #     subjects_less_than = set(df[\"image_id\"].iloc[less_than])\n",
    "    #     if any(subjects_less_than):\n",
    "    #         print(i, subjects_less_than, distance[less_than])\n",
    "    #     # print(i, subjects_less_than, distance[less_than])\n",
    "    #     error_set = error_set.union(subjects_more_than)\n",
    "    #     error_set = error_set.union(subjects_less_than)\n",
    "\n",
    "    # print(f\"total error of {postures}\", list(error_set))"
   ]
  },
  {
   "cell_type": "markdown",
   "metadata": {},
   "source": []
  }
 ],
 "metadata": {
  "kernelspec": {
   "display_name": "pytorch-mamba",
   "language": "python",
   "name": "python3"
  },
  "language_info": {
   "codemirror_mode": {
    "name": "ipython",
    "version": 3
   },
   "file_extension": ".py",
   "mimetype": "text/x-python",
   "name": "python",
   "nbconvert_exporter": "python",
   "pygments_lexer": "ipython3",
   "version": "3.10.5"
  },
  "orig_nbformat": 4,
  "vscode": {
   "interpreter": {
    "hash": "c037b4cc5591fa82a8557e4cd77f10f84f180168e2652626923973afa8b84062"
   }
  }
 },
 "nbformat": 4,
 "nbformat_minor": 2
}
